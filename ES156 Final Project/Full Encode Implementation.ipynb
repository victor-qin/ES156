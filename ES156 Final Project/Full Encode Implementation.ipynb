{
 "cells": [
  {
   "cell_type": "code",
   "execution_count": 3,
   "metadata": {},
   "outputs": [],
   "source": [
    "import numpy as np\n",
    "import matplotlib.pyplot as plt\n",
    "import math"
   ]
  },
  {
   "cell_type": "code",
   "execution_count": 4,
   "metadata": {},
   "outputs": [],
   "source": [
    "runs = 10000 * 4\n",
    "P = [1,10,100,1000]#np.linspace(1,4,4)\n",
    "std = np.linspace(0.5,2,100)\n",
    "msg_len = 4"
   ]
  },
  {
   "cell_type": "code",
   "execution_count": 5,
   "metadata": {},
   "outputs": [],
   "source": [
    "# Message and Encoding - Trasmission end basically\n",
    "\n",
    "# Convolutional encoder - based on https://nptel.ac.in/courses/117105077/35\n",
    "def convEncoder(rec, prev1, prev2):\n",
    "    out = []\n",
    "    out.append((rec + prev1 + prev2) % 2)\n",
    "    out.append((rec + prev2) % 2)\n",
    "    \n",
    "    return out\n",
    "\n",
    "def msgOutput(power, msg_len):\n",
    "    msg = []\n",
    "    \n",
    "    for i in range(msg_len):\n",
    "        if(np.random.uniform() > 0.5):\n",
    "            msg.append(1)\n",
    "        else:\n",
    "            msg.append(0)\n",
    "    \n",
    "    code = []   # each row is a pair of transmited bits - corresponds to 4-QAM location\n",
    "    prev1 = 0\n",
    "    prev2 = 0\n",
    "    for i in range(len(msg)):\n",
    "        code.append(convEncoder(msg[i], prev1, prev2))\n",
    "        prev2 = prev1\n",
    "        prev1 = msg[i]\n",
    "    \n",
    "    for i in range(len(msg)):\n",
    "        for j in range(len(code[0])):\n",
    "            if(code[i][j] == 1):\n",
    "                code[i][j] = np.sqrt(power/2)\n",
    "            else:\n",
    "                code[i][j] = -np.sqrt(power/2)\n",
    "    \n",
    "    return [np.array(msg), np.array(code)]\n",
    "        \n"
   ]
  },
  {
   "cell_type": "code",
   "execution_count": 6,
   "metadata": {},
   "outputs": [],
   "source": [
    "# Some defaults for the Viterbi Decoder\n",
    "\n",
    "states = [\"00\", \"01\", \"10\", \"11\"]\n",
    "trellis = {\n",
    "    \"00\" : {\"00\" : {\"msg\" : 0, \"code\" : \"00\"}, \"01\" : {\"msg\" : 0, \"code\" : \"11\"}},\n",
    "    \"01\" : {\"10\" : {\"msg\" : 0, \"code\" : \"10\"}, \"11\" : {\"msg\" : 0, \"code\" : \"01\"}},\n",
    "    \"10\" : {\"00\" : {\"msg\" : 1, \"code\" : \"11\"}, \"01\" : {\"msg\" : 1, \"code\" : \"00\"}},\n",
    "    \"11\" : {\"10\" : {\"msg\" : 1, \"code\" : \"01\"}, \"11\" : {\"msg\" : 1, \"code\" : \"10\"}}\n",
    "}\n"
   ]
  },
  {
   "cell_type": "code",
   "execution_count": 12,
   "metadata": {},
   "outputs": [],
   "source": [
    "# Reciever Code - adds in fading and noise\n",
    "\n",
    "def vitReciever(code, std):\n",
    "    \n",
    "    #add noise to each bit\n",
    "    noise = np.random.normal(0,std,code.shape)\n",
    "    rec = code + noise\n",
    "    \n",
    "    recCode = np.zeros(code.shape)\n",
    "    for i in range(recCode.shape[0]):\n",
    "        for j in range(recCode.shape[1]):\n",
    "            if rec[i][j] > 0:\n",
    "                recCode[i][j] = 1\n",
    "#         print(\"\".join(str(int(e)) for e in recCode[i]))\n",
    "    \n",
    "    recMsg = []\n",
    "    for i in range(recCode.shape[0]):\n",
    "        recMsg.append(\"\".join(str(int(e)) for e in recCode[i]))\n",
    "    \n",
    "#     print(recMsg)\n",
    "    decoded = convDecoder(recMsg)\n",
    "    \n",
    "    return decoded\n",
    "\n",
    "\n",
    "def convDecoder(recMsg, states=states, trellis=trellis):\n",
    "    V = [{}]\n",
    "    \n",
    "    # init first layer to all zeros\n",
    "    for st in states:\n",
    "        V[0][st] = {\"metric\" : 0, \"minPrev\" : \"EOT\"}\n",
    "    \n",
    "    # build next layers\n",
    "    for i in range(1, len(recMsg)+1):\n",
    "        V.append({})\n",
    "        \n",
    "        # iterate through each state in the layer\n",
    "        for st in states:\n",
    "            curMin = np.inf\n",
    "            curMinSt = \"\"\n",
    "            \n",
    "            # for all connections to that node find the min metric one\n",
    "            for prevSt in trellis[st]:\n",
    "                count = sum(1 for a, b in zip(trellis[st][prevSt][\"code\"], recMsg[i-1]) if a != b)\n",
    "                metric = count + V[i-1][prevSt][\"metric\"]\n",
    "                if(metric < curMin):\n",
    "                    curMin = metric\n",
    "                    curMinSt = prevSt\n",
    "            \n",
    "            # save the min metric as that node's metric\n",
    "            V[i][st] = {\"metric\" : curMin, \"minPrev\" : curMinSt}\n",
    "    \n",
    "#     print(V)\n",
    "    # begin backtrace and start storing output\n",
    "    output = []\n",
    "    minMet = np.inf\n",
    "    minSt = \"\"\n",
    "    for st in V[-1]:\n",
    "        if(V[-1][st][\"metric\"] < minMet):\n",
    "            minMet = V[-1][st][\"metric\"]\n",
    "            minSt = st\n",
    "\n",
    "    for i in range(len(recMsg), 0, -1):\n",
    "        past = V[i][minSt][\"minPrev\"]\n",
    "        output.append(trellis[minSt][past][\"msg\"])\n",
    "        minSt = past\n",
    "\n",
    "    return output[::-1]"
   ]
  },
  {
   "cell_type": "code",
   "execution_count": 11,
   "metadata": {},
   "outputs": [
    {
     "data": {
      "image/png": "[encoded data removed]",
      "text/plain": [
       "<Figure size 432x288 with 1 Axes>"
      ]
     },
     "metadata": {
      "needs_background": "light"
     },
     "output_type": "display_data"
    }
   ],
   "source": [
    "d = 2\n",
    "E_b = []\n",
    "errors = []\n",
    "\n",
    "for test_P in P:\n",
    "    for test_std in std:\n",
    "        err = 0\n",
    "        \n",
    "        for i in range(int(runs/msg_len)):\n",
    "            errs = 0\n",
    "            [msg, code] = msgOutput(test_P, msg_len)\n",
    "            recMsg = vitReciever(code, test_std)\n",
    "            errs += sum(1 for a, b in zip(\"\".join(str(int(e)) for e in msg), \"\".join(str(int(v)) for v in recMsg)) if a != b)\n",
    "            if(errs > 0):\n",
    "                err += 1\n",
    "        if(np.random.uniform() > 0.999):\n",
    "            print(err, test_P)\n",
    "        E_b.append(test_P/(d*test_std**2))\n",
    "        errors.append(4*err/(runs*d**2))\n",
    "        \n",
    "        if E_b[-1] == 0:\n",
    "            E_b[-1] = 10**0\n",
    "        if errors[-1] == 0:\n",
    "            errors[-1] = 10**0\n",
    "\n",
    "plt.plot(np.array(20*np.log10(E_b)), np.array(np.log10(errors)), 'ro')\n",
    "plt.xlabel(\"E_b in dB\")\n",
    "plt.ylabel(\"log(Error Count)\")\n",
    "plt.show()"
   ]
  },
  {
   "cell_type": "code",
   "execution_count": 180,
   "metadata": {},
   "outputs": [
    {
     "name": "stdout",
     "output_type": "stream",
     "text": [
      "[1 1 1 1]\n",
      "[[ 7.07106781  7.07106781]\n",
      " [-7.07106781  7.07106781]\n",
      " [ 7.07106781 -7.07106781]\n",
      " [ 7.07106781 -7.07106781]]\n",
      "[1, 1, 1, 1]\n",
      "0\n"
     ]
    }
   ],
   "source": [
    "# errs = 0\n",
    "# for i in range(1000):   \n",
    "[msg, code] = msgOutput(100, msg_len)\n",
    "recMsg = reciever(code, 0.001)\n",
    "print(msg)\n",
    "print(code)\n",
    "print(recMsg)\n",
    "errs = sum(1 for a, b in zip(\"\".join(str(int(e)) for e in msg), \"\".join(str(int(e)) for e in recMsg)) if a != b)\n",
    "print(errs)\n",
    "\n",
    "# print(errs)"
   ]
  },
  {
   "cell_type": "code",
   "execution_count": 58,
   "metadata": {},
   "outputs": [],
   "source": [
    "def standardOutput(power, msg_len):\n",
    "    msg = []\n",
    "    \n",
    "    for i in range(msg_len):\n",
    "        if(np.random.uniform() > 0.5):\n",
    "            msg.append(1)\n",
    "        else:\n",
    "            msg.append(0)\n",
    "            \n",
    "    code = []\n",
    "    for i in range(int(msg_len/2)):\n",
    "        code.append([msg[i*2], msg[i*2+1]])\n",
    "    \n",
    "    for i in range(len(code)):\n",
    "        for j in range(len(code[0])):\n",
    "            if(code[i][j] == 1):\n",
    "                code[i][j] = np.sqrt(power/2)\n",
    "            else:\n",
    "                code[i][j] = -np.sqrt(power/2)\n",
    "    \n",
    "    return [np.array(msg), np.array(code)]"
   ]
  },
  {
   "cell_type": "code",
   "execution_count": 61,
   "metadata": {},
   "outputs": [],
   "source": [
    "def standardReceiver(code, std):\n",
    "    \n",
    "    #add noise to each bit\n",
    "    noise = np.random.normal(0,std,code.shape)\n",
    "    rec = code + noise\n",
    "    \n",
    "    recCode = np.zeros(code.shape)\n",
    "    for i in range(recCode.shape[0]):\n",
    "        for j in range(recCode.shape[1]):\n",
    "            if(rec[i][j] > 0):\n",
    "                recCode[i][j] = 1\n",
    "                \n",
    "    standard = standardDecode(recCode)\n",
    "    \n",
    "    return standard\n",
    "\n",
    "        \n",
    "def standardDecode(recCode):\n",
    "    output = []\n",
    "    for i in range(recCode.shape[0]):\n",
    "        for j in range(recCode.shape[1]):\n",
    "            if(recCode[i][j] > 0):\n",
    "                output.append(1)\n",
    "            else:\n",
    "                output.append(0)\n",
    "    \n",
    "    return output\n",
    "            "
   ]
  },
  {
   "cell_type": "code",
   "execution_count": 66,
   "metadata": {},
   "outputs": [
    {
     "name": "stdout",
     "output_type": "stream",
     "text": [
      "[1 1 1 1]\n",
      "[1, 1, 1, 1]\n"
     ]
    }
   ],
   "source": [
    "[msg, code] = standardOutput(100, msg_len)\n",
    "recMsg = standardReceiver(code, 0)\n",
    "print(msg)\n",
    "print(recMsg)"
   ]
  },
  {
   "cell_type": "code",
   "execution_count": 68,
   "metadata": {},
   "outputs": [
    {
     "name": "stdout",
     "output_type": "stream",
     "text": [
      "0 100\n",
      "0 1000\n"
     ]
    },
    {
     "data": {
      "image/png": "[encoded data removed]",
      "text/plain": [
       "<Figure size 432x288 with 1 Axes>"
      ]
     },
     "metadata": {
      "needs_background": "light"
     },
     "output_type": "display_data"
    }
   ],
   "source": [
    "d = 2\n",
    "E_b = []\n",
    "errors = []\n",
    "\n",
    "for test_P in P:\n",
    "    for test_std in std:\n",
    "        err = 0\n",
    "        \n",
    "        for i in range(int(runs/msg_len)):\n",
    "            errs = 0\n",
    "            [msg, code] = standardOutput(test_P, msg_len)\n",
    "            recMsg = standardReceiver(code, test_std)\n",
    "            errs += sum(1 for a, b in zip(\"\".join(str(int(e)) for e in msg), \"\".join(str(int(v)) for v in recMsg)) if a != b)\n",
    "            if(errs > 0):\n",
    "                err += 1\n",
    "        \n",
    "        if(np.random.uniform() > 0.999):\n",
    "            print(err, test_P)\n",
    "        E_b.append(test_P/(d*test_std**2))\n",
    "        errors.append(msg_len*err/(runs*d**2))\n",
    "        \n",
    "        if E_b[-1] == 0:\n",
    "            E_b[-1] = 10**0\n",
    "        if errors[-1] == 0:\n",
    "            errors[-1] = 10**0\n",
    "\n",
    "plt.plot(np.array(20*np.log10(E_b)), np.array(np.log10(errors)), 'ro')\n",
    "plt.xlabel(\"E_b in dB\")\n",
    "plt.ylabel(\"log(Error Count)\")\n",
    "plt.show()"
   ]
  },
  {
   "cell_type": "code",
   "execution_count": null,
   "metadata": {},
   "outputs": [],
   "source": []
  }
 ],
 "metadata": {
  "kernelspec": {
   "display_name": "Python 3",
   "language": "python",
   "name": "python3"
  },
  "language_info": {
   "codemirror_mode": {
    "name": "ipython",
    "version": 3
   },
   "file_extension": ".py",
   "mimetype": "text/x-python",
   "name": "python",
   "nbconvert_exporter": "python",
   "pygments_lexer": "ipython3",
   "version": "3.7.3"
  }
 },
 "nbformat": 4,
 "nbformat_minor": 2
}
