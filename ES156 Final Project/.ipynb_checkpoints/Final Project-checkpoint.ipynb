{
 "cells": [
  {
   "cell_type": "code",
   "execution_count": 2,
   "metadata": {},
   "outputs": [],
   "source": [
    "import numpy as np\n",
    "import matplotlib.pyplot as plt\n",
    "import math"
   ]
  },
  {
   "cell_type": "code",
   "execution_count": 3,
   "metadata": {},
   "outputs": [],
   "source": [
    "runs = 10000\n",
    "P = [1,10,100,1000]#np.linspace(1,4,4)\n",
    "std = np.linspace(0.5,2,100)"
   ]
  },
  {
   "cell_type": "code",
   "execution_count": 119,
   "metadata": {},
   "outputs": [
    {
     "data": {
      "image/png": "[encoded data removed]",
      "text/plain": [
       "<Figure size 432x288 with 1 Axes>"
      ]
     },
     "metadata": {
      "needs_background": "light"
     },
     "output_type": "display_data"
    }
   ],
   "source": [
    "d = 1\n",
    "E_b = []\n",
    "errors = []\n",
    "\n",
    "for test_P in P:\n",
    "    for test_std in std:\n",
    "        test = np.random.normal(np.sqrt(test_P),test_std,runs)\n",
    "        err = 0\n",
    "        for i in test:\n",
    "            if(i < 0):\n",
    "                err += 1\n",
    "\n",
    "        test = np.random.normal(-np.sqrt(test_P),test_std,runs)\n",
    "        for i in test:\n",
    "            if(i > 0):\n",
    "                err += 1\n",
    "        \n",
    "        E_b.append(test_P/(d*test_std**2))\n",
    "        errors.append(err/runs)\n",
    "        \n",
    "        if E_b[-1] == 0:\n",
    "            E_b[-1] = 10**0\n",
    "        if errors[-1] == 0:\n",
    "            errors[-1] = 10**0\n",
    "\n",
    "# print(E_b)\n",
    "# print(errors)\n",
    "plt.plot(np.array(20*np.log10(E_b)), np.array(np.log10(errors)), 'ro')\n",
    "plt.xlabel(\"E_b in dB\")\n",
    "plt.ylabel(\"log(Error Count)\")\n",
    "plt.show()"
   ]
  },
  {
   "cell_type": "code",
   "execution_count": 82,
   "metadata": {},
   "outputs": [],
   "source": [
    "def errorsim(x, y, std, xmin, xmax, ymin, ymax):\n",
    "    test = np.random.normal((x,y),test_std,(runs,2))\n",
    "    err = 0\n",
    "    for i in test:\n",
    "        if(xmin > i[0] or xmax < i[0] or ymin > i[1] or ymax < i[1]):\n",
    "            err += 1\n",
    "    return err/runs"
   ]
  },
  {
   "cell_type": "code",
   "execution_count": 83,
   "metadata": {},
   "outputs": [
    {
     "data": {
      "image/png": "[encoded data removed]",
      "text/plain": [
       "<Figure size 432x288 with 1 Axes>"
      ]
     },
     "metadata": {
      "needs_background": "light"
     },
     "output_type": "display_data"
    }
   ],
   "source": [
    "d = 2\n",
    "E_b = []\n",
    "errors = []\n",
    "\n",
    "for test_P in P:\n",
    "    for test_std in std:\n",
    "        err = 0\n",
    "        err += errorsim(np.sqrt(test_P/2), np.sqrt(test_P/2), test_std, 0, np.inf, 0, np.inf)\n",
    "        err += errorsim(-np.sqrt(test_P/2), np.sqrt(test_P/2), test_std, -np.inf, 0, 0, np.inf)\n",
    "        err += errorsim(np.sqrt(test_P/2), -np.sqrt(test_P/2), test_std, 0, np.inf, -np.inf, 0)\n",
    "        err += errorsim(-np.sqrt(test_P/2),-np.sqrt(test_P/2), test_std, -np.inf, 0, -np.inf, 0)\n",
    "        \n",
    "        E_b.append(test_P/(d*test_std**2))\n",
    "        errors.append(err/d**2)\n",
    "        \n",
    "        if E_b[-1] == 0:\n",
    "            E_b[-1] = 10**0\n",
    "        if errors[-1] == 0:\n",
    "            errors[-1] = 10**0\n",
    "\n",
    "\n",
    "plt.plot(np.array(20*np.log10(E_b)), np.array(np.log10(errors)), 'ro')\n",
    "plt.xlabel(\"E_b in dB\")\n",
    "plt.ylabel(\"log(Error Count)\")\n",
    "plt.show()"
   ]
  },
  {
   "cell_type": "code",
   "execution_count": 144,
   "metadata": {},
   "outputs": [
    {
     "data": {
      "image/png": "[encoded data removed]",
      "text/plain": [
       "<Figure size 432x288 with 1 Axes>"
      ]
     },
     "metadata": {
      "needs_background": "light"
     },
     "output_type": "display_data"
    }
   ],
   "source": [
    "# Standard QAM Constellation testing\n",
    "d = 4\n",
    "E_b = []\n",
    "errors = []\n",
    "\n",
    "for test_P in P:\n",
    "    for test_std in std:\n",
    "        err = 0\n",
    "        \n",
    "        err += errorsim(np.sqrt(test_P/2), np.sqrt(test_P/2), test_std, np.sqrt(test_P/3), np.inf, np.sqrt(test_P/3), np.inf)\n",
    "        err += errorsim(np.sqrt(test_P/6), np.sqrt(test_P/2), test_std, 0, np.sqrt(test_P/3), np.sqrt(test_P/3), np.inf)\n",
    "        err += errorsim(-np.sqrt(test_P/6), np.sqrt(test_P/2), test_std, -np.sqrt(test_P/3), 0, np.sqrt(test_P/3), np.inf)\n",
    "        err += errorsim(-np.sqrt(test_P/2), np.sqrt(test_P/2), test_std, -np.inf, -np.sqrt(test_P/3), np.sqrt(test_P/3), np.inf)\n",
    "\n",
    "        err += errorsim(np.sqrt(test_P/2), np.sqrt(test_P/6), test_std, np.sqrt(test_P/3), np.inf, 0, np.sqrt(test_P/3))\n",
    "        err += errorsim(np.sqrt(test_P/6), np.sqrt(test_P/6), test_std, 0, np.sqrt(test_P/3), 0, np.sqrt(test_P/3))\n",
    "        err += errorsim(-np.sqrt(test_P/6), np.sqrt(test_P/6), test_std, -np.sqrt(test_P/3), 0, 0, np.sqrt(test_P/3))\n",
    "        err += errorsim(-np.sqrt(test_P/2), np.sqrt(test_P/6), test_std, -np.inf, -np.sqrt(test_P/3), 0, np.sqrt(test_P/3))\n",
    "        \n",
    "        err += errorsim(np.sqrt(test_P/2), -np.sqrt(test_P/6), test_std, np.sqrt(test_P/3), np.inf, -np.sqrt(test_P/3), 0)\n",
    "        err += errorsim(np.sqrt(test_P/6), -np.sqrt(test_P/6), test_std, 0, np.sqrt(test_P/3),  -np.sqrt(test_P/3), 0)\n",
    "        err += errorsim(-np.sqrt(test_P/6), -np.sqrt(test_P/6), test_std, -np.sqrt(test_P/3), 0,  -np.sqrt(test_P/3), 0)\n",
    "        err += errorsim(-np.sqrt(test_P/2), -np.sqrt(test_P/6), test_std, -np.inf, -np.sqrt(test_P/3),  -np.sqrt(test_P/3), 0)\n",
    "        \n",
    "        err += errorsim(np.sqrt(test_P/2), -np.sqrt(test_P/2), test_std, np.sqrt(test_P/3), np.inf, -np.inf, -np.sqrt(test_P/3))\n",
    "        err += errorsim(np.sqrt(test_P/6), -np.sqrt(test_P/2), test_std, 0, np.sqrt(test_P/3), -np.inf, -np.sqrt(test_P/3))\n",
    "        err += errorsim(-np.sqrt(test_P/6), -np.sqrt(test_P/2), test_std, -np.sqrt(test_P/3), 0, -np.inf, -np.sqrt(test_P/3))\n",
    "        err += errorsim(-np.sqrt(test_P/2), -np.sqrt(test_P/2), test_std, -np.inf, -np.sqrt(test_P/3), -np.inf, -np.sqrt(test_P/3))\n",
    "\n",
    "        E_b.append(test_P/(d*test_std**2))\n",
    "        errors.append(err/d**2)\n",
    "        \n",
    "        if E_b[-1] == 0:\n",
    "            E_b[-1] = 10**0\n",
    "        if errors[-1] == 0:\n",
    "            errors[-1] = 10**0\n",
    "\n",
    "plt.plot(np.array(20*np.log10(E_b)), np.array(np.log10(errors)), 'ro')\n",
    "plt.xlabel(\"E_b in dB\")\n",
    "plt.ylabel(\"log(Error Count)\")\n",
    "plt.show()"
   ]
  },
  {
   "cell_type": "code",
   "execution_count": 88,
   "metadata": {},
   "outputs": [],
   "source": [
    "def errorfadesim(x, y, std, xmin, xmax, ymin, ymax):\n",
    "    fade = np.random.normal(0, 1, (runs,2))\n",
    "    noise = np.random.normal(0,test_std,(runs,2))\n",
    "    err = 0\n",
    "    center = np.array([[x],[y]])\n",
    "    for i in range(runs):\n",
    "        H = [[fade[i][0], 0],\n",
    "             [0, fade[i][1]]]\n",
    "#         if np.random.uniform() > 0.99999:\n",
    "#             print(np.dot(H, center))\n",
    "        test = np.dot(H, center)+np.array([[noise[i][0]],[noise[i][1]]])\n",
    "#         print(test)\n",
    "        if(xmin > test[0] or xmax < test[0] or ymin > test[1] or ymax < test[1]):\n",
    "            err += 1\n",
    "    return err/runs"
   ]
  },
  {
   "cell_type": "code",
   "execution_count": 89,
   "metadata": {},
   "outputs": [
    {
     "data": {
      "image/png": "[encoded data removed]",
      "text/plain": [
       "<Figure size 432x288 with 1 Axes>"
      ]
     },
     "metadata": {
      "needs_background": "light"
     },
     "output_type": "display_data"
    }
   ],
   "source": [
    "# Faded QAM testing\n",
    "\n",
    "d = 2\n",
    "E_b = []\n",
    "errors = []\n",
    "\n",
    "for test_P in P:\n",
    "    for test_std in std:\n",
    "        err = 0\n",
    "        \n",
    "        err += errorfadesim(np.sqrt(test_P/2), np.sqrt(test_P/2), test_std, 0, np.inf, 0, np.inf)\n",
    "        err += errorfadesim(-np.sqrt(test_P/2), np.sqrt(test_P/2), test_std, -np.inf, 0, 0, np.inf)\n",
    "        err += errorfadesim(np.sqrt(test_P/2), -np.sqrt(test_P/2), test_std, 0, np.inf, -np.inf, 0)\n",
    "        err += errorfadesim(-np.sqrt(test_P/2),-np.sqrt(test_P/2), test_std, -np.inf, 0, -np.inf, 0)\n",
    "        \n",
    "        E_b.append(test_P/(d*test_std**2))\n",
    "        errors.append(err/d**2)\n",
    "        \n",
    "        if E_b[-1] == 0:\n",
    "            E_b[-1] = 10**0\n",
    "        if errors[-1] == 0:\n",
    "            errors[-1] = 10**0\n",
    "\n",
    "\n",
    "plt.plot(np.array(20*np.log10(E_b)), np.array(np.log10(errors)), 'ro')\n",
    "plt.xlabel(\"E_b in dB\")\n",
    "plt.ylabel(\"log(Error Count)\")\n",
    "plt.show()"
   ]
  },
  {
   "cell_type": "code",
   "execution_count": 91,
   "metadata": {},
   "outputs": [],
   "source": [
    "def errorfadecorrection(x, y, std, xmin, xmax, ymin, ymax):\n",
    "    fade = np.random.normal(0, 1, (runs,2))\n",
    "    noise = np.random.normal(0,test_std,(runs,2))\n",
    "    err = 0\n",
    "    center = np.array([[x],[y]])\n",
    "    for i in range(runs):\n",
    "        H = [[fade[i][0], 0],\n",
    "             [0, fade[i][1]]]\n",
    "        test = np.dot(H, center)+np.array([[noise[i][0]],[noise[i][1]]])\n",
    "        \n",
    "#         pilot = np.linalg.inv(H)\n",
    "#         if(test[0])\n",
    "        test = np.dot(np.linalg.inv(H), test)\n",
    "#         print(test)\n",
    "        if(xmin > test[0] or xmax < test[0] or ymin > test[1] or ymax < test[1]):\n",
    "            err += 1\n",
    "    return err/runs"
   ]
  },
  {
   "cell_type": "code",
   "execution_count": 92,
   "metadata": {},
   "outputs": [
    {
     "data": {
      "image/png": "[encoded data removed]",
      "text/plain": [
       "<Figure size 432x288 with 1 Axes>"
      ]
     },
     "metadata": {
      "needs_background": "light"
     },
     "output_type": "display_data"
    }
   ],
   "source": [
    "#Faded QAM with attempted correction - test is what we recieve, can try to correct on that\n",
    "\n",
    "d = 2\n",
    "E_b = []\n",
    "errors = []\n",
    "\n",
    "for test_P in P:\n",
    "    for test_std in std:\n",
    "        err = 0\n",
    "        \n",
    "        err += errorfadecorrection(np.sqrt(test_P/2), np.sqrt(test_P/2), test_std, 0, np.inf, 0, np.inf)\n",
    "        err += errorfadecorrection(-np.sqrt(test_P/2), np.sqrt(test_P/2), test_std, -np.inf, 0, 0, np.inf)\n",
    "        err += errorfadecorrection(np.sqrt(test_P/2), -np.sqrt(test_P/2), test_std, 0, np.inf, -np.inf, 0)\n",
    "        err += errorfadecorrection(-np.sqrt(test_P/2),-np.sqrt(test_P/2), test_std, -np.inf, 0, -np.inf, 0)\n",
    "        \n",
    "        E_b.append(test_P/(d*test_std**2))\n",
    "        errors.append(err/d**2)\n",
    "        \n",
    "        if E_b[-1] == 0:\n",
    "            E_b[-1] = 10**0\n",
    "        if errors[-1] == 0:\n",
    "            errors[-1] = 10**0\n",
    "\n",
    "\n",
    "plt.plot(np.array(20*np.log10(E_b)), np.array(np.log10(errors)), 'ro')\n",
    "plt.xlabel(\"E_b in dB\")\n",
    "plt.ylabel(\"log(Error Count)\")\n",
    "plt.show()"
   ]
  },
  {
   "cell_type": "code",
   "execution_count": 130,
   "metadata": {},
   "outputs": [],
   "source": [
    "# Repetition Code BPSK\n",
    "# coords is list of values - think as coordinates on n-dim constellation space\n",
    "def errorrepetitionBPSK(coords, std, reps, msg):\n",
    "    \n",
    "    H = np.diagflat(np.ones(len(coords)))\n",
    "    noise = np.random.normal(0,test_std,(runs,len(coords)))\n",
    "    err = 0\n",
    "    \n",
    "#     print(np.transpose([noise[0]]))\n",
    "    \n",
    "    for i in range(runs):\n",
    "        count = 0\n",
    "        test = np.dot(H, np.transpose([coords])) + np.transpose([noise[i]])\n",
    "        \n",
    "        for bit in test:\n",
    "            if bit[0] > 0 : count += 1\n",
    "        \n",
    "        if((count > reps/2 and msg == 0) or (count < reps/2 and msg == 1)):\n",
    "            err += 1\n",
    "    \n",
    "    return err/runs"
   ]
  },
  {
   "cell_type": "code",
   "execution_count": 169,
   "metadata": {},
   "outputs": [],
   "source": [
    "def errorrepetitionsim(coords, std, reps, msg):\n",
    "    \n",
    "    H = np.diagflat(np.ones(len(coords)))\n",
    "    noise = np.random.normal(0,test_std,(runs,len(coords)))\n",
    "    err = 0\n",
    "    msg_len = len(msg)\n",
    "    \n",
    "#     print(np.transpose([noise[0]]))\n",
    "    \n",
    "    for i in range(runs):\n",
    "        count = np.zeros(msg_len)\n",
    "        test = np.dot(H, np.transpose([coords])) + np.transpose([noise[i]])\n",
    "        \n",
    "        for j in range(len(test)):\n",
    "            if test[j][0] > 0:\n",
    "                count[(j % msg_len)] += 1\n",
    "        if(np.random.uniform() > 0.99999):\n",
    "            print(count)\n",
    "        for k in range(msg_len):\n",
    "            if((count[k] > reps/2 and msg[k] == 0) or (count[k] < reps/2 and msg[k] == 1)):\n",
    "                err += 1\n",
    "                break\n",
    "    \n",
    "#         print(err)\n",
    "    return err/runs"
   ]
  },
  {
   "cell_type": "code",
   "execution_count": 163,
   "metadata": {},
   "outputs": [
    {
     "name": "stdout",
     "output_type": "stream",
     "text": [
      "1\n",
      "10\n",
      "100\n",
      "1000\n"
     ]
    },
    {
     "data": {
      "image/png": "[encoded data removed]",
      "text/plain": [
       "<Figure size 432x288 with 1 Axes>"
      ]
     },
     "metadata": {
      "needs_background": "light"
     },
     "output_type": "display_data"
    }
   ],
   "source": [
    "# BPSK w/ repetition codes\n",
    "\n",
    "d = 1\n",
    "E_b = []\n",
    "errors = []\n",
    "\n",
    "for test_P in P:\n",
    "    for test_std in std:\n",
    "        err = 0\n",
    "        \n",
    "        err += errorrepetitionBPSK([np.sqrt(test_P/3), np.sqrt(test_P/3), np.sqrt(test_P/3)], test_std, 3, 1)\n",
    "        err += errorrepetitionBPSK([-np.sqrt(test_P/3), -np.sqrt(test_P/3), -np.sqrt(test_P/3)], test_std, 3, 0)\n",
    "        \n",
    "        E_b.append(test_P/(d*test_std**2))\n",
    "        errors.append(err/d**2)\n",
    "        \n",
    "        if E_b[-1] == 0:\n",
    "            E_b[-1] = 10**0\n",
    "        if errors[-1] == 0:\n",
    "            errors[-1] = 10**0\n",
    "\n",
    "\n",
    "plt.plot(np.array(20*np.log10(E_b)), np.array(np.log10(errors)), 'ro')\n",
    "plt.xlabel(\"E_b in dB\")\n",
    "plt.ylabel(\"log(Error Count)\")\n",
    "plt.show()"
   ]
  },
  {
   "cell_type": "code",
   "execution_count": 170,
   "metadata": {},
   "outputs": [
    {
     "name": "stdout",
     "output_type": "stream",
     "text": [
      "[2. 2.]\n",
      "[1. 0.]\n",
      "[3. 1.]\n",
      "[3. 2.]\n",
      "[2. 2.]\n",
      "[2. 0.]\n",
      "[3. 1.]\n",
      "[2. 2.]\n",
      "[0. 1.]\n",
      "[2. 1.]\n",
      "[3. 1.]\n",
      "[2. 2.]\n",
      "[1. 1.]\n",
      "[0. 0.]\n",
      "[1. 2.]\n",
      "[2. 0.]\n",
      "[1. 2.]\n",
      "[1. 2.]\n",
      "[2. 1.]\n",
      "[0. 1.]\n",
      "[3. 2.]\n",
      "[2. 1.]\n",
      "[2. 3.]\n",
      "[1. 2.]\n",
      "[1. 1.]\n",
      "[1. 2.]\n",
      "[1. 3.]\n",
      "[1. 3.]\n",
      "[2. 1.]\n",
      "[0. 1.]\n",
      "[2. 0.]\n",
      "[1. 2.]\n",
      "[2. 1.]\n",
      "[3. 1.]\n",
      "[2. 3.]\n",
      "[1. 2.]\n",
      "[2. 1.]\n",
      "[0. 1.]\n",
      "[1. 1.]\n",
      "[1. 0.]\n",
      "[0. 0.]\n",
      "[0. 3.]\n",
      "[3. 3.]\n",
      "[0. 0.]\n",
      "[3. 0.]\n",
      "[3. 0.]\n",
      "[3. 3.]\n",
      "[3. 3.]\n",
      "[3. 0.]\n",
      "[3. 0.]\n",
      "[0. 3.]\n",
      "[0. 0.]\n",
      "[0. 3.]\n",
      "[2. 0.]\n",
      "[3. 2.]\n",
      "[0. 0.]\n",
      "[0. 1.]\n",
      "[0. 3.]\n",
      "[1. 0.]\n",
      "[3. 3.]\n",
      "[3. 3.]\n",
      "[0. 2.]\n",
      "[1. 0.]\n",
      "[2. 0.]\n",
      "[3. 3.]\n",
      "[1. 3.]\n",
      "[3. 2.]\n",
      "[3. 0.]\n",
      "[0. 0.]\n",
      "[1. 3.]\n",
      "[3. 2.]\n",
      "[1. 0.]\n",
      "[3. 3.]\n",
      "[1. 1.]\n",
      "[2. 1.]\n",
      "[1. 2.]\n",
      "[3. 0.]\n",
      "[0. 1.]\n",
      "[2. 2.]\n",
      "[2. 0.]\n",
      "[3. 3.]\n",
      "[0. 0.]\n",
      "[2. 2.]\n",
      "[2. 1.]\n",
      "[1. 2.]\n",
      "[0. 2.]\n",
      "[2. 2.]\n",
      "[2. 3.]\n",
      "[0. 1.]\n",
      "[3. 3.]\n",
      "[0. 0.]\n",
      "[0. 0.]\n",
      "[3. 3.]\n",
      "[3. 3.]\n",
      "[3. 0.]\n",
      "[0. 0.]\n",
      "[0. 0.]\n",
      "[3. 3.]\n",
      "[0. 0.]\n",
      "[0. 3.]\n",
      "[0. 0.]\n",
      "[0. 3.]\n",
      "[0. 0.]\n",
      "[0. 0.]\n",
      "[0. 0.]\n",
      "[3. 0.]\n",
      "[3. 0.]\n",
      "[3. 0.]\n",
      "[3. 0.]\n",
      "[3. 3.]\n",
      "[3. 3.]\n",
      "[0. 3.]\n",
      "[3. 3.]\n",
      "[3. 0.]\n",
      "[3. 0.]\n",
      "[3. 3.]\n",
      "[3. 0.]\n",
      "[0. 3.]\n",
      "[0. 0.]\n",
      "[3. 3.]\n",
      "[0. 0.]\n",
      "[0. 0.]\n",
      "[3. 3.]\n",
      "[0. 3.]\n",
      "[0. 0.]\n",
      "[0. 3.]\n",
      "[0. 3.]\n",
      "[0. 0.]\n",
      "[0. 3.]\n",
      "[3. 0.]\n",
      "[3. 3.]\n",
      "[0. 0.]\n",
      "[3. 0.]\n",
      "[3. 3.]\n",
      "[3. 3.]\n",
      "[3. 3.]\n",
      "[3. 0.]\n",
      "[3. 0.]\n",
      "[0. 3.]\n",
      "[0. 0.]\n",
      "[3. 3.]\n",
      "[0. 0.]\n",
      "[3. 3.]\n",
      "[3. 3.]\n",
      "[0. 3.]\n",
      "[3. 0.]\n",
      "[0. 3.]\n",
      "[3. 0.]\n",
      "[0. 0.]\n",
      "[0. 3.]\n",
      "[0. 3.]\n",
      "[0. 3.]\n",
      "[3. 3.]\n",
      "[3. 3.]\n",
      "[3. 0.]\n",
      "[0. 3.]\n",
      "[3. 0.]\n",
      "[0. 3.]\n",
      "[3. 3.]\n",
      "[0. 3.]\n"
     ]
    },
    {
     "data": {
      "image/png": "[encoded data removed]",
      "text/plain": [
       "<Figure size 432x288 with 1 Axes>"
      ]
     },
     "metadata": {
      "needs_background": "light"
     },
     "output_type": "display_data"
    }
   ],
   "source": [
    "# 4-QAM with repetition codes\n",
    "\n",
    "d = 2\n",
    "rep = 3\n",
    "E_b = []\n",
    "errors = []\n",
    "\n",
    "\n",
    "for test_P in P:\n",
    "    const_11 = [np.sqrt(test_P/(rep * d)), np.sqrt(test_P/(rep * d)), np.sqrt(test_P/(rep * d)), np.sqrt(test_P/(rep * d)), np.sqrt(test_P/(rep * d)), np.sqrt(test_P/(rep * d))]\n",
    "    const_00 = [-np.sqrt(test_P/(rep * d)), -np.sqrt(test_P/(rep * d)), -np.sqrt(test_P/(rep * d)), -np.sqrt(test_P/(rep * d)), -np.sqrt(test_P/(rep * d)), -np.sqrt(test_P/(rep * d))]\n",
    "    const_01 = [-np.sqrt(test_P/(rep * d)), np.sqrt(test_P/(rep * d)), -np.sqrt(test_P/(rep * d)), np.sqrt(test_P/(rep * d)), -np.sqrt(test_P/(rep * d)), np.sqrt(test_P/(rep * d))]\n",
    "    const_10 = [np.sqrt(test_P/(rep * d)), -np.sqrt(test_P/(rep * d)), np.sqrt(test_P/(rep * d)), -np.sqrt(test_P/(rep * d)), np.sqrt(test_P/(rep * d)), -np.sqrt(test_P/(rep * d))]\n",
    "\n",
    "    for test_std in std:\n",
    "        err = 0\n",
    "\n",
    "        err += errorrepetitionsim(const_11, test_std, rep, [1,1])\n",
    "        err += errorrepetitionsim(const_00, test_std, rep, [0,0])\n",
    "        err += errorrepetitionsim(const_01, test_std, rep, [0,1])\n",
    "        err += errorrepetitionsim(const_10, test_std, rep, [1,0])\n",
    "        \n",
    "        E_b.append(test_P/(rep*d*test_std**2))\n",
    "        errors.append(err/d**2)\n",
    "        \n",
    "        if E_b[-1] == 0:\n",
    "            E_b[-1] = 10**0\n",
    "        if errors[-1] == 0:\n",
    "            errors[-1] = 10**0\n",
    "\n",
    "\n",
    "plt.plot(np.array(20*np.log10(E_b)), np.array(np.log10(errors)), 'ro')\n",
    "plt.xlabel(\"E_b in dB\")\n",
    "plt.ylabel(\"log(Error Count)\")\n",
    "plt.show()"
   ]
  },
  {
   "cell_type": "code",
   "execution_count": null,
   "metadata": {},
   "outputs": [],
   "source": []
  }
 ],
 "metadata": {
  "kernelspec": {
   "display_name": "Python 3",
   "language": "python",
   "name": "python3"
  },
  "language_info": {
   "codemirror_mode": {
    "name": "ipython",
    "version": 3
   },
   "file_extension": ".py",
   "mimetype": "text/x-python",
   "name": "python",
   "nbconvert_exporter": "python",
   "pygments_lexer": "ipython3",
   "version": "3.7.3"
  }
 },
 "nbformat": 4,
 "nbformat_minor": 2
}
